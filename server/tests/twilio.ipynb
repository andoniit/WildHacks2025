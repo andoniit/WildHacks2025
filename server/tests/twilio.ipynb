{
 "cells": [
  {
   "cell_type": "code",
   "execution_count": 2,
   "metadata": {},
   "outputs": [
    {
     "name": "stdout",
     "output_type": "stream",
     "text": [
      "Collecting twilio\n",
      "  Downloading twilio-9.5.1-py2.py3-none-any.whl.metadata (12 kB)\n",
      "Requirement already satisfied: requests>=2.0.0 in c:\\users\\manav\\appdata\\local\\programs\\python\\python312\\lib\\site-packages (from twilio) (2.31.0)\n",
      "Requirement already satisfied: PyJWT<3.0.0,>=2.0.0 in c:\\users\\manav\\appdata\\local\\programs\\python\\python312\\lib\\site-packages (from twilio) (2.10.1)\n",
      "Requirement already satisfied: aiohttp>=3.8.4 in c:\\users\\manav\\appdata\\local\\programs\\python\\python312\\lib\\site-packages (from twilio) (3.11.11)\n",
      "Collecting aiohttp-retry>=2.8.3 (from twilio)\n",
      "  Downloading aiohttp_retry-2.9.1-py3-none-any.whl.metadata (8.8 kB)\n",
      "Requirement already satisfied: aiohappyeyeballs>=2.3.0 in c:\\users\\manav\\appdata\\local\\programs\\python\\python312\\lib\\site-packages (from aiohttp>=3.8.4->twilio) (2.4.4)\n",
      "Requirement already satisfied: aiosignal>=1.1.2 in c:\\users\\manav\\appdata\\local\\programs\\python\\python312\\lib\\site-packages (from aiohttp>=3.8.4->twilio) (1.3.2)\n",
      "Requirement already satisfied: attrs>=17.3.0 in c:\\users\\manav\\appdata\\local\\programs\\python\\python312\\lib\\site-packages (from aiohttp>=3.8.4->twilio) (24.2.0)\n",
      "Requirement already satisfied: frozenlist>=1.1.1 in c:\\users\\manav\\appdata\\local\\programs\\python\\python312\\lib\\site-packages (from aiohttp>=3.8.4->twilio) (1.5.0)\n",
      "Requirement already satisfied: multidict<7.0,>=4.5 in c:\\users\\manav\\appdata\\local\\programs\\python\\python312\\lib\\site-packages (from aiohttp>=3.8.4->twilio) (6.1.0)\n",
      "Requirement already satisfied: propcache>=0.2.0 in c:\\users\\manav\\appdata\\local\\programs\\python\\python312\\lib\\site-packages (from aiohttp>=3.8.4->twilio) (0.2.1)\n",
      "Requirement already satisfied: yarl<2.0,>=1.17.0 in c:\\users\\manav\\appdata\\local\\programs\\python\\python312\\lib\\site-packages (from aiohttp>=3.8.4->twilio) (1.18.3)\n",
      "Requirement already satisfied: charset-normalizer<4,>=2 in c:\\users\\manav\\appdata\\local\\programs\\python\\python312\\lib\\site-packages (from requests>=2.0.0->twilio) (3.3.2)\n",
      "Requirement already satisfied: idna<4,>=2.5 in c:\\users\\manav\\appdata\\local\\programs\\python\\python312\\lib\\site-packages (from requests>=2.0.0->twilio) (3.6)\n",
      "Requirement already satisfied: urllib3<3,>=1.21.1 in c:\\users\\manav\\appdata\\local\\programs\\python\\python312\\lib\\site-packages (from requests>=2.0.0->twilio) (2.2.0)\n",
      "Requirement already satisfied: certifi>=2017.4.17 in c:\\users\\manav\\appdata\\local\\programs\\python\\python312\\lib\\site-packages (from requests>=2.0.0->twilio) (2024.2.2)\n",
      "Downloading twilio-9.5.1-py2.py3-none-any.whl (1.9 MB)\n",
      "   ---------------------------------------- 0.0/1.9 MB ? eta -:--:--\n",
      "   ---------------------------------------- 1.9/1.9 MB 20.4 MB/s eta 0:00:00\n",
      "Downloading aiohttp_retry-2.9.1-py3-none-any.whl (10.0 kB)\n",
      "Installing collected packages: aiohttp-retry, twilio\n",
      "Successfully installed aiohttp-retry-2.9.1 twilio-9.5.1\n",
      "Note: you may need to restart the kernel to use updated packages.\n"
     ]
    }
   ],
   "source": [
    "pip install twilio"
   ]
  },
  {
   "cell_type": "code",
   "execution_count": 6,
   "metadata": {},
   "outputs": [
    {
     "name": "stdout",
     "output_type": "stream",
     "text": [
      "MM61a70ce47078946ea3d06df88eab3edf\n"
     ]
    }
   ],
   "source": [
    "from twilio.rest import Client\n",
    "\n",
    "account_sid = 'AC3e1ada33b0ace50f0432a17003457149'\n",
    "auth_token = 'e393384af48cabf83424dc4a8f2fc578'\n",
    "client = Client(account_sid, auth_token)\n",
    "\n",
    "message = client.messages.create(\n",
    "  from_='whatsapp:+14155238886',\n",
    "  content_sid='HX229f5a04fd0510ce1b071852155d3e75',\n",
    "  content_variables='{\"1\":\"Day 1 of the cycle: Offer extra care today of her : )                      -\"}',\n",
    "  to='whatsapp:+13126622927'\n",
    ")\n",
    "\n",
    "print(message.sid)"
   ]
  }
 ],
 "metadata": {
  "kernelspec": {
   "display_name": "Python 3",
   "language": "python",
   "name": "python3"
  },
  "language_info": {
   "codemirror_mode": {
    "name": "ipython",
    "version": 3
   },
   "file_extension": ".py",
   "mimetype": "text/x-python",
   "name": "python",
   "nbconvert_exporter": "python",
   "pygments_lexer": "ipython3",
   "version": "3.12.4"
  }
 },
 "nbformat": 4,
 "nbformat_minor": 2
}
